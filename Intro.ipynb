{
  "nbformat": 4,
  "nbformat_minor": 0,
  "metadata": {
    "colab": {
      "provenance": [],
      "authorship_tag": "ABX9TyP5jXex69iqqK9P9xD4zB6b",
      "include_colab_link": true
    },
    "kernelspec": {
      "name": "python3",
      "display_name": "Python 3"
    },
    "language_info": {
      "name": "python"
    }
  },
  "cells": [
    {
      "cell_type": "markdown",
      "metadata": {
        "id": "view-in-github",
        "colab_type": "text"
      },
      "source": [
        "<a href=\"https://colab.research.google.com/github/rickfitch50/test-colab/blob/main/Intro.ipynb\" target=\"_parent\"><img src=\"https://colab.research.google.com/assets/colab-badge.svg\" alt=\"Open In Colab\"/></a>"
      ]
    },
    {
      "cell_type": "markdown",
      "source": [
        "##Text\n"
      ],
      "metadata": {
        "id": "2tTBysIqZOwF"
      }
    },
    {
      "cell_type": "markdown",
      "source": [
        "An Odered List:\n",
        "1. One\n",
        "2. Two\n",
        "3. Three\n"
      ],
      "metadata": {
        "id": "GQvFIyGYb2El"
      }
    },
    {
      "cell_type": "markdown",
      "source": [
        "An Unordered List:\n",
        "* One\n",
        "* Two\n",
        "* Three"
      ],
      "metadata": {
        "id": "HcGOzMCOcuyD"
      }
    },
    {
      "cell_type": "markdown",
      "source": [
        "##link in [ ] url in ( ) use in text mode\n",
        "\n"
      ],
      "metadata": {
        "id": "P6eB_FcdFGiV"
      }
    },
    {
      "cell_type": "markdown",
      "source": [
        "[google](https://google.com)"
      ],
      "metadata": {
        "id": "ATHm2X52E7JS"
      }
    },
    {
      "cell_type": "markdown",
      "source": [
        "###Python Version\n"
      ],
      "metadata": {
        "id": "iOMyTx99HVxT"
      }
    },
    {
      "cell_type": "code",
      "source": [
        "import sys"
      ],
      "metadata": {
        "id": "oWXNFa0yHnWg"
      },
      "execution_count": null,
      "outputs": []
    },
    {
      "cell_type": "code",
      "source": [
        "print(sys.version)"
      ],
      "metadata": {
        "id": "j08JEwvDH8Eu",
        "outputId": "612fcef0-a924-48b7-a52d-2aaabb46c781",
        "colab": {
          "base_uri": "https://localhost:8080/"
        }
      },
      "execution_count": null,
      "outputs": [
        {
          "output_type": "stream",
          "name": "stdout",
          "text": [
            "3.8.16 (default, Dec  7 2022, 01:12:13) \n",
            "[GCC 7.5.0]\n"
          ]
        }
      ]
    },
    {
      "cell_type": "code",
      "source": [
        "print(sys.version.split(' ')[0])"
      ],
      "metadata": {
        "id": "8ADgthSGIKmj",
        "outputId": "8c5e7461-9198-46c9-bbbb-b6bb984288a5",
        "colab": {
          "base_uri": "https://localhost:8080/"
        }
      },
      "execution_count": null,
      "outputs": [
        {
          "output_type": "stream",
          "name": "stdout",
          "text": [
            "3.8.16\n"
          ]
        }
      ]
    },
    {
      "cell_type": "code",
      "source": [],
      "metadata": {
        "id": "qbOyOpEkIeir"
      },
      "execution_count": null,
      "outputs": []
    },
    {
      "cell_type": "markdown",
      "source": [
        "#Date/Time"
      ],
      "metadata": {
        "id": "w55IbCrjKXOH"
      }
    },
    {
      "cell_type": "code",
      "source": [
        "from datetime import datetime"
      ],
      "metadata": {
        "id": "LoSiwE9ELt7G"
      },
      "execution_count": 28,
      "outputs": []
    },
    {
      "cell_type": "code",
      "source": [
        "print(datetime.date(2021,1,1))\n",
        "print(datetime.date(2019,5,30))"
      ],
      "metadata": {
        "id": "DKjHJ7DyL7oz",
        "outputId": "ccf393ff-492c-418c-87ac-b220ee015b94",
        "colab": {
          "base_uri": "https://localhost:8080/"
        }
      },
      "execution_count": null,
      "outputs": [
        {
          "output_type": "stream",
          "name": "stdout",
          "text": [
            "2021-01-01\n",
            "2019-05-30\n"
          ]
        }
      ]
    },
    {
      "cell_type": "code",
      "source": [
        "print(datetime.time(12,0,0))\n",
        "print(datetime.time(6,30,0))\n"
      ],
      "metadata": {
        "id": "Ux9MWMpCNBfj",
        "outputId": "0621a60b-6fa4-4d6d-b066-52c295fc0b60",
        "colab": {
          "base_uri": "https://localhost:8080/"
        }
      },
      "execution_count": null,
      "outputs": [
        {
          "output_type": "stream",
          "name": "stdout",
          "text": [
            "12:00:00\n",
            "06:30:00\n"
          ]
        }
      ]
    },
    {
      "cell_type": "code",
      "source": [
        "datetime.datetime(2020,7,21,2,45,0).ctime()"
      ],
      "metadata": {
        "id": "3RtGhL_fPZyD",
        "colab": {
          "base_uri": "https://localhost:8080/",
          "height": 35
        },
        "outputId": "b5bb9f18-1626-4a65-b3f6-a0468fac793d"
      },
      "execution_count": 4,
      "outputs": [
        {
          "output_type": "execute_result",
          "data": {
            "text/plain": [
              "'Tue Jul 21 02:45:00 2020'"
            ],
            "application/vnd.google.colaboratory.intrinsic+json": {
              "type": "string"
            }
          },
          "metadata": {},
          "execution_count": 4
        }
      ]
    },
    {
      "cell_type": "code",
      "source": [
        "d1 = datetime.date(2020,7,21)\n",
        "d2 = datetime.date(2020, 12, 31)\n",
        "diff =(d2-d1).days\n",
        "print(f\"the difference in days is {diff}\")"
      ],
      "metadata": {
        "colab": {
          "base_uri": "https://localhost:8080/"
        },
        "id": "phTyEF5LC_Tq",
        "outputId": "c203ff93-1c6c-4496-d866-b911ded554e4"
      },
      "execution_count": 5,
      "outputs": [
        {
          "output_type": "stream",
          "name": "stdout",
          "text": [
            "the difference in days is 163\n"
          ]
        }
      ]
    },
    {
      "cell_type": "code",
      "source": [
        "import datetime\n",
        "dt1=datetime.datetime(2020,7,20,11,30,0)\n",
        "dt2=datetime.datetime(2021,2,20,10,25,0)\n",
        "print(dt2-dt1)"
      ],
      "metadata": {
        "colab": {
          "base_uri": "https://localhost:8080/"
        },
        "id": "0k_hVwg3D1Qn",
        "outputId": "b316f06f-b91e-4729-b043-84c9ecf0a4a5"
      },
      "execution_count": 6,
      "outputs": [
        {
          "output_type": "stream",
          "name": "stdout",
          "text": [
            "214 days, 22:55:00\n"
          ]
        }
      ]
    },
    {
      "cell_type": "code",
      "source": [
        "dt1 = datetime(2021,4,20,11,30,0)\n",
        "print(dt1.strftime('%Y-%m-%d'))\n",
        "print(dt1.strftime('%d-%m-%Y'))\n",
        "print(dt1.strftime('%B-%d-%Y'))\n",
        "print(dt1.strftime('%B-%d-%Y'))"
      ],
      "metadata": {
        "id": "cfnXAPEEQR_C",
        "outputId": "3bd58f78-1794-4159-a4de-bcf59f056407",
        "colab": {
          "base_uri": "https://localhost:8080/"
        }
      },
      "execution_count": 7,
      "outputs": [
        {
          "output_type": "stream",
          "name": "stdout",
          "text": [
            "2021-04-20\n",
            "20-04-2021\n",
            "April-20-2021\n",
            "April-20-2021\n"
          ]
        }
      ]
    },
    {
      "cell_type": "code",
      "source": [
        "dt1 = 'March 4 2020'\n",
        "dt2 = '3/9/1995'\n",
        "dt3 = '3-10-2020'\n",
        "print(datetime.strptime(dt1,'%B %d %Y'))\n",
        "print(datetime.strptime(dt2,'%m/%d/%Y'))\n",
        "print(datetime.strptime(dt3,'%m-%d-%Y'))"
      ],
      "metadata": {
        "id": "SgDycP2iST7r",
        "outputId": "664e2f1e-2c6f-4657-9847-65f585af0472",
        "colab": {
          "base_uri": "https://localhost:8080/"
        }
      },
      "execution_count": 22,
      "outputs": [
        {
          "output_type": "stream",
          "name": "stdout",
          "text": [
            "2020-03-04 00:00:00\n",
            "1995-03-09 00:00:00\n",
            "2020-03-10 00:00:00\n"
          ]
        }
      ]
    },
    {
      "cell_type": "code",
      "source": [
        "from datetime import date\n",
        "today = date.today()\n",
        "print(today)\n",
        "end_of_year = date(today.year,12,31)\n",
        "print(end_of_year)\n",
        "days_left= (end_of_year - today).days\n",
        "print(days_left)"
      ],
      "metadata": {
        "id": "0QexSq7-Y2Oi",
        "outputId": "dd786e01-494c-409c-e6d2-ddd00d1832af",
        "colab": {
          "base_uri": "https://localhost:8080/"
        }
      },
      "execution_count": 37,
      "outputs": [
        {
          "output_type": "stream",
          "name": "stdout",
          "text": [
            "2023-01-17\n",
            "2023-12-31\n",
            "348\n"
          ]
        }
      ]
    },
    {
      "cell_type": "code",
      "source": [
        "today=datetime.today()\n",
        "new_year=datetime(2024,1,1,0,0,0)\n",
        "time_left = new_year - today\n",
        "print(time_left)"
      ],
      "metadata": {
        "id": "yZClByfPcY3d",
        "outputId": "00dc09e5-c750-4585-ed79-fdfae2e8a734",
        "colab": {
          "base_uri": "https://localhost:8080/"
        }
      },
      "execution_count": 41,
      "outputs": [
        {
          "output_type": "stream",
          "name": "stdout",
          "text": [
            "348 days, 17:09:39.234432\n"
          ]
        }
      ]
    },
    {
      "cell_type": "code",
      "source": [
        "print(datetime.now())\n",
        "print(date.today())"
      ],
      "metadata": {
        "id": "YYR2YOUlewMr",
        "outputId": "657dacbf-bf52-4086-c8a4-52c84c5b1250",
        "colab": {
          "base_uri": "https://localhost:8080/"
        }
      },
      "execution_count": 45,
      "outputs": [
        {
          "output_type": "stream",
          "name": "stdout",
          "text": [
            "2023-01-17 06:53:14.324005\n",
            "2023-01-17\n"
          ]
        }
      ]
    },
    {
      "cell_type": "code",
      "source": [],
      "metadata": {
        "id": "E3B1CS9Ef1Pb"
      },
      "execution_count": null,
      "outputs": []
    }
  ]
}