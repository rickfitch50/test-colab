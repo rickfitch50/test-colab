{
  "nbformat": 4,
  "nbformat_minor": 0,
  "metadata": {
    "colab": {
      "provenance": [],
      "authorship_tag": "ABX9TyPs4k/nwV5ABqK3xXT02EdW",
      "include_colab_link": true
    },
    "kernelspec": {
      "name": "python3",
      "display_name": "Python 3"
    },
    "language_info": {
      "name": "python"
    }
  },
  "cells": [
    {
      "cell_type": "markdown",
      "metadata": {
        "id": "view-in-github",
        "colab_type": "text"
      },
      "source": [
        "<a href=\"https://colab.research.google.com/github/rickfitch50/test-colab/blob/main/Intro.ipynb\" target=\"_parent\"><img src=\"https://colab.research.google.com/assets/colab-badge.svg\" alt=\"Open In Colab\"/></a>"
      ]
    },
    {
      "cell_type": "markdown",
      "source": [
        "##Text\n"
      ],
      "metadata": {
        "id": "2tTBysIqZOwF"
      }
    },
    {
      "cell_type": "markdown",
      "source": [
        "An Odered List:\n",
        "1. One\n",
        "2. Two\n",
        "3. Three\n"
      ],
      "metadata": {
        "id": "GQvFIyGYb2El"
      }
    },
    {
      "cell_type": "markdown",
      "source": [
        "An Unordered List:\n",
        "* One\n",
        "* Two\n",
        "* Three"
      ],
      "metadata": {
        "id": "HcGOzMCOcuyD"
      }
    },
    {
      "cell_type": "markdown",
      "source": [
        "##link in [ ] url in ( ) use in text mode\n",
        "\n"
      ],
      "metadata": {
        "id": "P6eB_FcdFGiV"
      }
    },
    {
      "cell_type": "markdown",
      "source": [
        "[google](https://google.com)"
      ],
      "metadata": {
        "id": "ATHm2X52E7JS"
      }
    },
    {
      "cell_type": "markdown",
      "source": [
        "###Python Version\n"
      ],
      "metadata": {
        "id": "iOMyTx99HVxT"
      }
    },
    {
      "cell_type": "code",
      "source": [
        "import sys"
      ],
      "metadata": {
        "id": "oWXNFa0yHnWg"
      },
      "execution_count": null,
      "outputs": []
    },
    {
      "cell_type": "code",
      "source": [
        "print(sys.version)"
      ],
      "metadata": {
        "id": "j08JEwvDH8Eu",
        "outputId": "612fcef0-a924-48b7-a52d-2aaabb46c781",
        "colab": {
          "base_uri": "https://localhost:8080/"
        }
      },
      "execution_count": null,
      "outputs": [
        {
          "output_type": "stream",
          "name": "stdout",
          "text": [
            "3.8.16 (default, Dec  7 2022, 01:12:13) \n",
            "[GCC 7.5.0]\n"
          ]
        }
      ]
    },
    {
      "cell_type": "code",
      "source": [
        "print(sys.version.split(' ')[0])"
      ],
      "metadata": {
        "id": "8ADgthSGIKmj",
        "outputId": "8c5e7461-9198-46c9-bbbb-b6bb984288a5",
        "colab": {
          "base_uri": "https://localhost:8080/"
        }
      },
      "execution_count": null,
      "outputs": [
        {
          "output_type": "stream",
          "name": "stdout",
          "text": [
            "3.8.16\n"
          ]
        }
      ]
    },
    {
      "cell_type": "code",
      "source": [],
      "metadata": {
        "id": "qbOyOpEkIeir"
      },
      "execution_count": null,
      "outputs": []
    },
    {
      "cell_type": "markdown",
      "source": [
        "#Date/Time"
      ],
      "metadata": {
        "id": "w55IbCrjKXOH"
      }
    },
    {
      "cell_type": "code",
      "source": [
        "import datetime"
      ],
      "metadata": {
        "id": "LoSiwE9ELt7G"
      },
      "execution_count": 1,
      "outputs": []
    },
    {
      "cell_type": "code",
      "source": [
        "print(datetime.date(2021,1,1))\n",
        "print(datetime.date(2019,5,30))"
      ],
      "metadata": {
        "id": "DKjHJ7DyL7oz",
        "outputId": "ccf393ff-492c-418c-87ac-b220ee015b94",
        "colab": {
          "base_uri": "https://localhost:8080/"
        }
      },
      "execution_count": null,
      "outputs": [
        {
          "output_type": "stream",
          "name": "stdout",
          "text": [
            "2021-01-01\n",
            "2019-05-30\n"
          ]
        }
      ]
    },
    {
      "cell_type": "code",
      "source": [
        "print(datetime.time(12,0,0))\n",
        "print(datetime.time(6,30,0))\n"
      ],
      "metadata": {
        "id": "Ux9MWMpCNBfj",
        "outputId": "0621a60b-6fa4-4d6d-b066-52c295fc0b60",
        "colab": {
          "base_uri": "https://localhost:8080/"
        }
      },
      "execution_count": null,
      "outputs": [
        {
          "output_type": "stream",
          "name": "stdout",
          "text": [
            "12:00:00\n",
            "06:30:00\n"
          ]
        }
      ]
    },
    {
      "cell_type": "code",
      "source": [
        "datetime.datetime(2020,7,21,2,45,0).ctime()"
      ],
      "metadata": {
        "id": "3RtGhL_fPZyD",
        "outputId": "b5bb9f18-1626-4a65-b3f6-a0468fac793d",
        "colab": {
          "base_uri": "https://localhost:8080/",
          "height": 35
        }
      },
      "execution_count": 4,
      "outputs": [
        {
          "output_type": "execute_result",
          "data": {
            "text/plain": [
              "'Tue Jul 21 02:45:00 2020'"
            ],
            "application/vnd.google.colaboratory.intrinsic+json": {
              "type": "string"
            }
          },
          "metadata": {},
          "execution_count": 4
        }
      ]
    },
    {
      "cell_type": "code",
      "source": [
        "d1 = datetime.date(2020,7,21)\n",
        "d2 = datetime.date(2020, 12, 31)\n",
        "diff =(d2-d1).days\n",
        "print(f\"the difference in days is {diff}\")"
      ],
      "metadata": {
        "colab": {
          "base_uri": "https://localhost:8080/"
        },
        "id": "phTyEF5LC_Tq",
        "outputId": "c203ff93-1c6c-4496-d866-b911ded554e4"
      },
      "execution_count": 5,
      "outputs": [
        {
          "output_type": "stream",
          "name": "stdout",
          "text": [
            "the difference in days is 163\n"
          ]
        }
      ]
    },
    {
      "cell_type": "code",
      "source": [
        "import datetime\n",
        "dt1=datetime.datetime(2020,7,20,11,30,0)\n",
        "dt2=datetime.datetime(2021,2,20,10,25,0)\n",
        "print(dt2-dt1)"
      ],
      "metadata": {
        "id": "0k_hVwg3D1Qn",
        "outputId": "b316f06f-b91e-4729-b043-84c9ecf0a4a5",
        "colab": {
          "base_uri": "https://localhost:8080/"
        }
      },
      "execution_count": 6,
      "outputs": [
        {
          "output_type": "stream",
          "name": "stdout",
          "text": [
            "214 days, 22:55:00\n"
          ]
        }
      ]
    }
  ]
}