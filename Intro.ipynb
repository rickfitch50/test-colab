{
  "nbformat": 4,
  "nbformat_minor": 0,
  "metadata": {
    "colab": {
      "provenance": [],
      "authorship_tag": "ABX9TyPQjsHUhMzrzmRT4ZnAsoqj",
      "include_colab_link": true
    },
    "kernelspec": {
      "name": "python3",
      "display_name": "Python 3"
    },
    "language_info": {
      "name": "python"
    }
  },
  "cells": [
    {
      "cell_type": "markdown",
      "metadata": {
        "id": "view-in-github",
        "colab_type": "text"
      },
      "source": [
        "<a href=\"https://colab.research.google.com/github/rickfitch50/test-colab/blob/main/Intro.ipynb\" target=\"_parent\"><img src=\"https://colab.research.google.com/assets/colab-badge.svg\" alt=\"Open In Colab\"/></a>"
      ]
    },
    {
      "cell_type": "code",
      "source": [],
      "metadata": {
        "id": "MLfGWLU-YtgG"
      },
      "execution_count": null,
      "outputs": []
    },
    {
      "cell_type": "markdown",
      "source": [
        "###Summary\n"
      ],
      "metadata": {
        "id": "2tTBysIqZOwF"
      }
    },
    {
      "cell_type": "code",
      "source": [
        "import numpy as np\n",
        "\n",
        "np.__version__\n"
      ],
      "metadata": {
        "id": "TxTCcbGQZTVv",
        "outputId": "c8da9e61-d9d7-4c99-f4ff-7b84cbbcfb2d",
        "colab": {
          "base_uri": "https://localhost:8080/",
          "height": 35
        }
      },
      "execution_count": 2,
      "outputs": [
        {
          "output_type": "execute_result",
          "data": {
            "text/plain": [
              "'1.21.6'"
            ],
            "application/vnd.google.colaboratory.intrinsic+json": {
              "type": "string"
            }
          },
          "metadata": {},
          "execution_count": 2
        }
      ]
    },
    {
      "cell_type": "code",
      "source": [],
      "metadata": {
        "id": "HvpfucEwa_ss"
      },
      "execution_count": null,
      "outputs": []
    },
    {
      "cell_type": "markdown",
      "source": [
        "An Odered List:\n",
        "1. One\n",
        "2. Two\n",
        "3. Three\n"
      ],
      "metadata": {
        "id": "GQvFIyGYb2El"
      }
    },
    {
      "cell_type": "markdown",
      "source": [
        "An Unordered List:\n",
        "* One\n",
        "* Two\n",
        "* Three"
      ],
      "metadata": {
        "id": "HcGOzMCOcuyD"
      }
    },
    {
      "cell_type": "code",
      "source": [],
      "metadata": {
        "id": "RczkAepEdCyF"
      },
      "execution_count": null,
      "outputs": []
    }
  ]
}